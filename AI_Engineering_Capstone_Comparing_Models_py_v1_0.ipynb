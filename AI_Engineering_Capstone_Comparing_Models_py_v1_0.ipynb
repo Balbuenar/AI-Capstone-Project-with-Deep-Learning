{
  "nbformat": 4,
  "nbformat_minor": 0,
  "metadata": {
    "kernelspec": {
      "display_name": "Python",
      "language": "python",
      "name": "conda-env-python-py"
    },
    "language_info": {
      "codemirror_mode": {
        "name": "ipython",
        "version": 3
      },
      "file_extension": ".py",
      "mimetype": "text/x-python",
      "name": "python",
      "nbconvert_exporter": "python",
      "pygments_lexer": "ipython3",
      "version": "3.6.7"
    },
    "colab": {
      "name": "DL0321EN-4-1-Comparing-Models-py-v1.0.ipynb",
      "provenance": [],
      "collapsed_sections": [],
      "include_colab_link": true
    }
  },
  "cells": [
    {
      "cell_type": "markdown",
      "metadata": {
        "id": "view-in-github",
        "colab_type": "text"
      },
      "source": [
        "<a href=\"https://colab.research.google.com/github/Balbuenar/AI-Capstone-Project-with-Deep-Learning/blob/master/AI_Engineering_Capstone_Comparing_Models_py_v1_0.ipynb\" target=\"_parent\"><img src=\"https://colab.research.google.com/assets/colab-badge.svg\" alt=\"Open In Colab\"/></a>"
      ]
    },
    {
      "cell_type": "markdown",
      "metadata": {
        "button": false,
        "deletable": true,
        "new_sheet": false,
        "run_control": {
          "read_only": false
        },
        "id": "TdkAE32R1Mjh",
        "colab_type": "text"
      },
      "source": [
        "<a href=\"https://cognitiveclass.ai\"><img src = \"https://s3-api.us-geo.objectstorage.softlayer.net/cf-courses-data/CognitiveClass/Logos/organization_logo/organization_logo.png\" width = 400> </a>\n",
        "\n",
        "<h1 align=center><font size = 5>Peer Review Final Assignment</font></h1>"
      ]
    },
    {
      "cell_type": "markdown",
      "metadata": {
        "button": false,
        "deletable": true,
        "new_sheet": false,
        "run_control": {
          "read_only": false
        },
        "id": "__tEDzCi1Mji",
        "colab_type": "text"
      },
      "source": [
        "## Introduction\n"
      ]
    },
    {
      "cell_type": "markdown",
      "metadata": {
        "button": false,
        "deletable": true,
        "new_sheet": false,
        "run_control": {
          "read_only": false
        },
        "id": "IGrnRJeP1Mji",
        "colab_type": "text"
      },
      "source": [
        "In this lab, you will build an image classifier using the VGG16 pre-trained model, and you will evaluate it and compare its performance to the model we built in the last module using the ResNet50 pre-trained model. Good luck!"
      ]
    },
    {
      "cell_type": "markdown",
      "metadata": {
        "button": false,
        "deletable": true,
        "new_sheet": false,
        "run_control": {
          "read_only": false
        },
        "id": "tGcPcGTU1Mjj",
        "colab_type": "text"
      },
      "source": [
        "## Table of Contents\n",
        "\n",
        "<div class=\"alert alert-block alert-info\" style=\"margin-top: 20px\">\n",
        "\n",
        "<font size = 3>    \n",
        "\n",
        "1. <a href=\"#item41\">Download Data \n",
        "2. <a href=\"#item42\">Part 1</a>\n",
        "3. <a href=\"#item43\">Part 2</a>  \n",
        "4. <a href=\"#item44\">Part 3</a>  \n",
        "\n",
        "</font>\n",
        "    \n",
        "</div>"
      ]
    },
    {
      "cell_type": "markdown",
      "metadata": {
        "button": false,
        "deletable": true,
        "new_sheet": false,
        "run_control": {
          "read_only": false
        },
        "id": "MZJOrXfl1Mjk",
        "colab_type": "text"
      },
      "source": [
        "   "
      ]
    },
    {
      "cell_type": "markdown",
      "metadata": {
        "id": "SS094raA1Mjk",
        "colab_type": "text"
      },
      "source": [
        "<a id=\"item41\"></a>"
      ]
    },
    {
      "cell_type": "markdown",
      "metadata": {
        "id": "OC81TT351Mjl",
        "colab_type": "text"
      },
      "source": [
        "## Download Data"
      ]
    },
    {
      "cell_type": "markdown",
      "metadata": {
        "id": "I22aKlbY1Mjm",
        "colab_type": "text"
      },
      "source": [
        "Use the <code>wget</code> command to download the data for this assignment from here: https://s3-api.us-geo.objectstorage.softlayer.net/cf-courses-data/CognitiveClass/DL0321EN/data/concrete_data_week4.zip"
      ]
    },
    {
      "cell_type": "markdown",
      "metadata": {
        "id": "osIBRu491Mjq",
        "colab_type": "text"
      },
      "source": [
        "Use the following cells to download the data."
      ]
    },
    {
      "cell_type": "code",
      "metadata": {
        "id": "YPAPgNjt1Mjs",
        "colab_type": "code",
        "outputId": "ad64ea23-5c56-463f-961a-e39f6b0deab0",
        "colab": {
          "base_uri": "https://localhost:8080/",
          "height": 204
        }
      },
      "source": [
        "!wget  https://s3-api.us-geo.objectstorage.softlayer.net/cf-courses-data/CognitiveClass/DL0321EN/data/concrete_data_week4.zip"
      ],
      "execution_count": 3,
      "outputs": [
        {
          "output_type": "stream",
          "text": [
            "--2020-06-04 03:42:13--  https://s3-api.us-geo.objectstorage.softlayer.net/cf-courses-data/CognitiveClass/DL0321EN/data/concrete_data_week4.zip\n",
            "Resolving s3-api.us-geo.objectstorage.softlayer.net (s3-api.us-geo.objectstorage.softlayer.net)... 67.228.254.196\n",
            "Connecting to s3-api.us-geo.objectstorage.softlayer.net (s3-api.us-geo.objectstorage.softlayer.net)|67.228.254.196|:443... connected.\n",
            "HTTP request sent, awaiting response... 200 OK\n",
            "Length: 261483817 (249M) [application/zip]\n",
            "Saving to: ‘concrete_data_week4.zip.1’\n",
            "\n",
            "concrete_data_week4 100%[===================>] 249.37M  39.1MB/s    in 6.5s    \n",
            "\n",
            "2020-06-04 03:42:19 (38.1 MB/s) - ‘concrete_data_week4.zip.1’ saved [261483817/261483817]\n",
            "\n"
          ],
          "name": "stdout"
        }
      ]
    },
    {
      "cell_type": "code",
      "metadata": {
        "id": "WWiEmp_q1Mjw",
        "colab_type": "code",
        "outputId": "82219316-0adb-4284-f1e8-4e652a0f6593",
        "colab": {
          "base_uri": "https://localhost:8080/",
          "height": 51
        }
      },
      "source": [
        "!unzip concrete_data_week4.zip"
      ],
      "execution_count": 4,
      "outputs": [
        {
          "output_type": "stream",
          "text": [
            "Archive:  concrete_data_week4.zip\n",
            "replace concrete_data_week4/valid/positive/16679_1.jpg? [y]es, [n]o, [A]ll, [N]one, [r]ename: "
          ],
          "name": "stdout"
        }
      ]
    },
    {
      "cell_type": "markdown",
      "metadata": {
        "id": "wJcsCPu51Mj0",
        "colab_type": "text"
      },
      "source": [
        "After you unzip the data, you fill find the data has already been divided into a train, validation, and test sets."
      ]
    },
    {
      "cell_type": "markdown",
      "metadata": {
        "id": "ZyMcTPQ31Mj0",
        "colab_type": "text"
      },
      "source": [
        "  "
      ]
    },
    {
      "cell_type": "markdown",
      "metadata": {
        "button": false,
        "deletable": true,
        "new_sheet": false,
        "run_control": {
          "read_only": false
        },
        "id": "RUwqkPzZ1Mj1",
        "colab_type": "text"
      },
      "source": [
        "<a id=\"item42\"></a>"
      ]
    },
    {
      "cell_type": "markdown",
      "metadata": {
        "id": "wfsr5ppI1Mj2",
        "colab_type": "text"
      },
      "source": [
        "## Part 1"
      ]
    },
    {
      "cell_type": "markdown",
      "metadata": {
        "id": "AHHzp7Ce1Mj3",
        "colab_type": "text"
      },
      "source": [
        "In this part, you will design a classifier using the VGG16 pre-trained model. Just like the ResNet50 model, you can import the model <code>VGG16</code> from <code>keras.applications</code>."
      ]
    },
    {
      "cell_type": "markdown",
      "metadata": {
        "id": "XygOU18h1Mj4",
        "colab_type": "text"
      },
      "source": [
        "You will essentially build your classifier as follows:\n",
        "1. Import libraries, modules, and packages you will need. Make sure to import the *preprocess_input* function from <code>keras.applications.vgg16</code>.\n",
        "2. Use a batch size of 100 images for both training and validation.\n",
        "3. Construct an ImageDataGenerator for the training set and another one for the validation set. VGG16 was originally trained on 224 × 224 images, so make sure to address that when defining the ImageDataGenerator instances.\n",
        "4. Create a sequential model using Keras. Add VGG16 model to it and dense layer.\n",
        "5. Compile the mode using the adam optimizer and the categorical_crossentropy loss function.\n",
        "6. Fit the model on the augmented data using the ImageDataGenerators."
      ]
    },
    {
      "cell_type": "markdown",
      "metadata": {
        "id": "J7SrlR0a1Mj4",
        "colab_type": "text"
      },
      "source": [
        "Use the following cells to create your classifier."
      ]
    },
    {
      "cell_type": "code",
      "metadata": {
        "id": "4U7VdKUg1Mj5",
        "colab_type": "code",
        "colab": {
          "base_uri": "https://localhost:8080/",
          "height": 34
        },
        "outputId": "7ba7b845-e72d-444c-e818-6920c85e6f14"
      },
      "source": [
        "from keras.preprocessing.image import ImageDataGenerator\n",
        "import keras\n",
        "from keras.models import Sequential\n",
        "from keras.layers import Dense\n",
        "from keras.applications import VGG16\n",
        "from keras.applications.vgg16 import preprocess_input\n",
        "import tensorflow as tf\n",
        "tf.test.gpu_device_name()"
      ],
      "execution_count": 44,
      "outputs": [
        {
          "output_type": "execute_result",
          "data": {
            "text/plain": [
              "''"
            ]
          },
          "metadata": {
            "tags": []
          },
          "execution_count": 44
        }
      ]
    },
    {
      "cell_type": "code",
      "metadata": {
        "id": "Uatz-KFESR7_",
        "colab_type": "code",
        "colab": {}
      },
      "source": [
        "num_classes = 2\n",
        "image_resize = 224\n",
        "batch_size_training = 100\n",
        "batch_size_validation = 100"
      ],
      "execution_count": 0,
      "outputs": []
    },
    {
      "cell_type": "code",
      "metadata": {
        "id": "YVhTNepG1Mj-",
        "colab_type": "code",
        "colab": {}
      },
      "source": [
        "data_generator = ImageDataGenerator(\n",
        "    preprocessing_function=preprocess_input,\n",
        ")"
      ],
      "execution_count": 0,
      "outputs": []
    },
    {
      "cell_type": "code",
      "metadata": {
        "scrolled": true,
        "id": "QKUGa5RR1MkC",
        "colab_type": "code",
        "colab": {
          "base_uri": "https://localhost:8080/",
          "height": 34
        },
        "outputId": "64582664-017b-4fbd-a912-3bc007d94c05"
      },
      "source": [
        "train_generator = data_generator.flow_from_directory(\n",
        "    'concrete_data_week4/train',\n",
        "    target_size=(image_resize, image_resize),\n",
        "    batch_size=batch_size_training,\n",
        "    class_mode='categorical')"
      ],
      "execution_count": 14,
      "outputs": [
        {
          "output_type": "stream",
          "text": [
            "Found 30001 images belonging to 2 classes.\n"
          ],
          "name": "stdout"
        }
      ]
    },
    {
      "cell_type": "code",
      "metadata": {
        "id": "tA6lN3Pt1MkF",
        "colab_type": "code",
        "colab": {
          "base_uri": "https://localhost:8080/",
          "height": 34
        },
        "outputId": "07bfc3e1-29cc-4e30-ab3b-fee08ba78bff"
      },
      "source": [
        "validation_generator = data_generator.flow_from_directory(\n",
        "    'concrete_data_week4/valid',\n",
        "    target_size=(image_resize, image_resize),\n",
        "    batch_size=batch_size_validation,\n",
        "    class_mode='categorical')"
      ],
      "execution_count": 48,
      "outputs": [
        {
          "output_type": "stream",
          "text": [
            "Found 9501 images belonging to 2 classes.\n"
          ],
          "name": "stdout"
        }
      ]
    },
    {
      "cell_type": "code",
      "metadata": {
        "id": "IRIWxNqR1MkI",
        "colab_type": "code",
        "colab": {}
      },
      "source": [
        "model = Sequential()"
      ],
      "execution_count": 0,
      "outputs": []
    },
    {
      "cell_type": "code",
      "metadata": {
        "id": "lO9EtSBZ1MkM",
        "colab_type": "code",
        "colab": {
          "base_uri": "https://localhost:8080/",
          "height": 221
        },
        "outputId": "d50e2349-1e5b-48a4-fd50-86e06d409f43"
      },
      "source": [
        "model = Sequential()\n",
        "model.add(VGG16(include_top=False,pooling='avg',weights='imagenet'))\n",
        "model.add(Dense(num_classes, activation='softmax'))\n",
        "model.layers[0].trainable = False\n",
        "model.summary()"
      ],
      "execution_count": 49,
      "outputs": [
        {
          "output_type": "stream",
          "text": [
            "Model: \"sequential_2\"\n",
            "_________________________________________________________________\n",
            "Layer (type)                 Output Shape              Param #   \n",
            "=================================================================\n",
            "vgg16 (Model)                (None, 512)               14714688  \n",
            "_________________________________________________________________\n",
            "dense_1 (Dense)              (None, 2)                 1026      \n",
            "=================================================================\n",
            "Total params: 14,715,714\n",
            "Trainable params: 1,026\n",
            "Non-trainable params: 14,714,688\n",
            "_________________________________________________________________\n"
          ],
          "name": "stdout"
        }
      ]
    },
    {
      "cell_type": "code",
      "metadata": {
        "id": "bepnEZCz1MkO",
        "colab_type": "code",
        "colab": {}
      },
      "source": [
        "model.compile(optimizer='adam', loss='categorical_crossentropy', metrics=['accuracy'])"
      ],
      "execution_count": 0,
      "outputs": []
    },
    {
      "cell_type": "code",
      "metadata": {
        "id": "Fxl1SxKvc8Uc",
        "colab_type": "code",
        "colab": {}
      },
      "source": [
        "steps_per_epoch_training = len(train_generator)\n",
        "steps_per_epoch_validation = len(validation_generator)\n",
        "num_epochs = 2"
      ],
      "execution_count": 0,
      "outputs": []
    },
    {
      "cell_type": "code",
      "metadata": {
        "id": "Ur76ZrYB1MkZ",
        "colab_type": "code",
        "colab": {
          "base_uri": "https://localhost:8080/",
          "height": 51
        },
        "outputId": "48254b71-b0e2-497f-ff05-83bfb6fac934"
      },
      "source": [
        "fit_history = model.fit_generator(\n",
        "    train_generator,\n",
        "    steps_per_epoch=steps_per_epoch_training,\n",
        "    epochs=num_epochs,\n",
        "    validation_data=validation_generator,\n",
        "    validation_steps=steps_per_epoch_validation,\n",
        "    verbose=1,\n",
        ")"
      ],
      "execution_count": 0,
      "outputs": [
        {
          "output_type": "stream",
          "text": [
            "Epoch 1/2\n",
            " 64/301 [=====>........................] - ETA: 3:17:59 - loss: 0.3214 - accuracy: 0.8684"
          ],
          "name": "stdout"
        }
      ]
    },
    {
      "cell_type": "code",
      "metadata": {
        "id": "KpjUbxlC1Mke",
        "colab_type": "code",
        "colab": {}
      },
      "source": [
        "fit_history.model.save('./VGG16_concrete')"
      ],
      "execution_count": 0,
      "outputs": []
    },
    {
      "cell_type": "markdown",
      "metadata": {
        "id": "uFGK73kA1Mkn",
        "colab_type": "text"
      },
      "source": [
        "   "
      ]
    },
    {
      "cell_type": "markdown",
      "metadata": {
        "id": "KtEXJl5U1Mkn",
        "colab_type": "text"
      },
      "source": [
        "<a id=\"item43\"></a>"
      ]
    },
    {
      "cell_type": "markdown",
      "metadata": {
        "id": "sf_uHg1p1Mko",
        "colab_type": "text"
      },
      "source": [
        "## Part 2"
      ]
    },
    {
      "cell_type": "markdown",
      "metadata": {
        "id": "oJaXe8ch1Mkp",
        "colab_type": "text"
      },
      "source": [
        "In this part, you will evaluate your deep learning models on a test data. For this part, you will need to do the following:\n",
        "\n",
        "1. Load your saved model that was built using the ResNet50 model. \n",
        "2. Construct an ImageDataGenerator for the test set. For this ImageDataGenerator instance, you only need to pass the directory of the test images, target size, and the **shuffle** parameter and set it to False.\n",
        "3. Use the **evaluate_generator** method to evaluate your models on the test data, by passing the above ImageDataGenerator as an argument. You can learn more about **evaluate_generator** [here](https://keras.io/models/sequential/).\n",
        "4. Print the performance of the classifier using the VGG16 pre-trained model.\n",
        "5. Print the performance of the classifier using the ResNet pre-trained model.\n"
      ]
    },
    {
      "cell_type": "markdown",
      "metadata": {
        "id": "IOMvI9D81Mkq",
        "colab_type": "text"
      },
      "source": [
        "Use the following cells to evaluate your models."
      ]
    },
    {
      "cell_type": "code",
      "metadata": {
        "id": "PtYDZJ1N1Mks",
        "colab_type": "code",
        "colab": {}
      },
      "source": [
        "ResNet50_Model = keras.models.load_model('./classifier_resnet_model.h5')"
      ],
      "execution_count": 0,
      "outputs": []
    },
    {
      "cell_type": "code",
      "metadata": {
        "id": "Uw6kvnP61Mkx",
        "colab_type": "code",
        "colab": {}
      },
      "source": [
        "data_generator = ImageDataGenerator(\n",
        "    preprocessing_function=preprocess_input,\n",
        ")\n",
        "test_generator = data_generator.flow_from_directory(\n",
        "    'concrete_data_week4/test',\n",
        "    target_size=(image_resize, image_resize),\n",
        "    batch_size=batch_size_training,\n",
        "    shuffle=False,\n",
        "    class_mode='categorical')"
      ],
      "execution_count": 0,
      "outputs": []
    },
    {
      "cell_type": "code",
      "metadata": {
        "id": "aiYqfU4a1Mkz",
        "colab_type": "code",
        "colab": {}
      },
      "source": [
        "model.evaluate_generator(test_generator, 500, max_queue_size = 10)"
      ],
      "execution_count": 0,
      "outputs": []
    },
    {
      "cell_type": "code",
      "metadata": {
        "id": "5Hhac53A1Mk2",
        "colab_type": "code",
        "colab": {}
      },
      "source": [
        "ResNet50_Model.evaluate_generator(test_generator, 500, max_queue_size = 10,verbose=1)"
      ],
      "execution_count": 0,
      "outputs": []
    },
    {
      "cell_type": "markdown",
      "metadata": {
        "id": "ybfDGyCQ1Mk4",
        "colab_type": "text"
      },
      "source": [
        "   "
      ]
    },
    {
      "cell_type": "markdown",
      "metadata": {
        "id": "B1C4aegq1Mk5",
        "colab_type": "text"
      },
      "source": [
        "<a id=\"item44\"></a>"
      ]
    },
    {
      "cell_type": "markdown",
      "metadata": {
        "id": "1naPCp7-1Mk5",
        "colab_type": "text"
      },
      "source": [
        "## Part 3"
      ]
    },
    {
      "cell_type": "markdown",
      "metadata": {
        "id": "jdxjMTNY1Mk6",
        "colab_type": "text"
      },
      "source": [
        "In this model, you will predict whether the images in the test data are images of cracked concrete or not. You will do the following:\n",
        "\n",
        "1. Use the **predict_generator** method to predict the class of the images in the test data, by passing the test data ImageDataGenerator instance defined in the previous part as an argument. You can learn more about the **predict_generator** method [here](https://keras.io/models/sequential/).\n",
        "2. Report the class predictions of the first five images in the test set. You should print something list this:\n",
        "\n",
        "<center>\n",
        "    <ul style=\"list-style-type:none\">\n",
        "        <li>Positive</li>  \n",
        "        <li>Negative</li> \n",
        "        <li>Positive</li>\n",
        "        <li>Positive</li>\n",
        "        <li>Negative</li>\n",
        "    </ul>\n",
        "</center>"
      ]
    },
    {
      "cell_type": "markdown",
      "metadata": {
        "id": "Ub3QaMIK1Mk7",
        "colab_type": "text"
      },
      "source": [
        "Use the following cells to make your predictions."
      ]
    },
    {
      "cell_type": "code",
      "metadata": {
        "id": "-6lGJq8o1Mk7",
        "colab_type": "code",
        "colab": {}
      },
      "source": [
        "predictions = model.predict_generator(test_generator)"
      ],
      "execution_count": 0,
      "outputs": []
    },
    {
      "cell_type": "code",
      "metadata": {
        "id": "N3wxePPx1Mk-",
        "colab_type": "code",
        "colab": {}
      },
      "source": [
        "for x in range(5):\n",
        "  if (predictions[x][0]>predictions[x][1]):\n",
        "    print('Positive')\n",
        "  else:\n",
        "     print('Negative')"
      ],
      "execution_count": 0,
      "outputs": []
    },
    {
      "cell_type": "code",
      "metadata": {
        "id": "LHaiBBqg1MlA",
        "colab_type": "code",
        "colab": {}
      },
      "source": [
        ""
      ],
      "execution_count": 0,
      "outputs": []
    },
    {
      "cell_type": "code",
      "metadata": {
        "id": "FMwjN4UB1MlD",
        "colab_type": "code",
        "colab": {}
      },
      "source": [
        ""
      ],
      "execution_count": 0,
      "outputs": []
    },
    {
      "cell_type": "markdown",
      "metadata": {
        "id": "Ier_Pj3D1MlG",
        "colab_type": "text"
      },
      "source": [
        "  "
      ]
    },
    {
      "cell_type": "markdown",
      "metadata": {
        "button": false,
        "deletable": true,
        "new_sheet": false,
        "run_control": {
          "read_only": false
        },
        "id": "txmi8FFJ1MlG",
        "colab_type": "text"
      },
      "source": [
        "### Thank you for completing this lab!\n",
        "\n",
        "This notebook was created by Alex Aklson."
      ]
    },
    {
      "cell_type": "markdown",
      "metadata": {
        "button": false,
        "deletable": true,
        "new_sheet": false,
        "run_control": {
          "read_only": false
        },
        "id": "xBE_pyVD1MlH",
        "colab_type": "text"
      },
      "source": [
        "This notebook is part of a course on **Coursera** called *AI Capstone Project with Deep Learning*. If you accessed this notebook outside the course, you can take this course online by clicking [here](https://cocl.us/DL0321EN_Coursera_Week4_LAB1)."
      ]
    },
    {
      "cell_type": "markdown",
      "metadata": {
        "button": false,
        "deletable": true,
        "new_sheet": false,
        "run_control": {
          "read_only": false
        },
        "id": "kJOvdVlj1MlH",
        "colab_type": "text"
      },
      "source": [
        "<hr>\n",
        "\n",
        "Copyright &copy; 2020 [IBM Developer Skills Network](https://cognitiveclass.ai/?utm_source=bducopyrightlink&utm_medium=dswb&utm_campaign=bdu). This notebook and its source code are released under the terms of the [MIT License](https://bigdatauniversity.com/mit-license/)."
      ]
    }
  ]
}